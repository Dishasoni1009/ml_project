{
 "cells": [
  {
   "cell_type": "markdown",
   "metadata": {},
   "source": [
    "## MODEL TRAINING ##"
   ]
  },
  {
   "cell_type": "markdown",
   "metadata": {},
   "source": [
    "As this is a classification problem so we will be using these models : \n",
    "\n",
    "    KNeighborsClassifiers\n",
    "    RandomForestClassifiers\n",
    "    Support Vector Classifiers (SVC)\n",
    "    Logistics Regression\n",
    "\n",
    "To predict the accuracy use the accuracy score function from scikit-learn library."
   ]
  },
  {
   "cell_type": "markdown",
   "metadata": {},
   "source": []
  }
 ],
 "metadata": {
  "language_info": {
   "name": "python"
  }
 },
 "nbformat": 4,
 "nbformat_minor": 2
}
